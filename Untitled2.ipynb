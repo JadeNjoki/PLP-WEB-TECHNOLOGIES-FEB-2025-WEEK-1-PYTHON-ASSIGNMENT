{
  "nbformat": 4,
  "nbformat_minor": 0,
  "metadata": {
    "colab": {
      "provenance": [],
      "authorship_tag": "ABX9TyOWiaLehh9hJpxsaHHjvdKE",
      "include_colab_link": true
    },
    "kernelspec": {
      "name": "python3",
      "display_name": "Python 3"
    },
    "language_info": {
      "name": "python"
    }
  },
  "cells": [
    {
      "cell_type": "markdown",
      "metadata": {
        "id": "view-in-github",
        "colab_type": "text"
      },
      "source": [
        "<a href=\"https://colab.research.google.com/github/JadeNjoki/PLP-WEB-TECHNOLOGIES-FEB-2025-WEEK-1-PYTHON-ASSIGNMENT/blob/main/Untitled2.ipynb\" target=\"_parent\"><img src=\"https://colab.research.google.com/assets/colab-badge.svg\" alt=\"Open In Colab\"/></a>"
      ]
    },
    {
      "cell_type": "code",
      "execution_count": null,
      "metadata": {
        "id": "Eoa8T8E4cJYK"
      },
      "outputs": [],
      "source": [
        "# Simple Calculator Program\n",
        "\n",
        "# Get user input\n",
        "num1 = float(input(\"Enter the first number: \"))\n",
        "num2 = float(input(\"Enter the second number: \"))\n",
        "operation = input(\"Enter an operation (+, -, *, /): \")\n",
        "\n",
        "# Perform the calculation based on the operation\n",
        "if operation == '+':\n",
        "    result = num1 + num2\n",
        "    print(f\"{num1} + {num2} = {result}\")\n",
        "elif operation == '-':\n",
        "    result = num1 - num2\n",
        "    print(f\"{num1} - {num2} = {result}\")\n",
        "elif operation == '*':\n",
        "    result = num1 * num2\n",
        "    print(f\"{num1} * {num2} = {result}\")\n",
        "elif operation == '/':\n",
        "    if num2 != 0:\n",
        "        result = num1 / num2\n",
        "        print(f\"{num1} / {num2} = {result}\")\n",
        "    else:\n",
        "        print(\"Error! Division by zero is not allowed.\")\n",
        "else:\n",
        "    print(\"Invalid operation! Please enter +, -, *, or /.\")\n"
      ]
    }
  ]
}